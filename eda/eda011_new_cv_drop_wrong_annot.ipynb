{
 "cells": [
  {
   "cell_type": "markdown",
   "metadata": {},
   "source": [
    "fold split by \n",
    "https://www.kaggle.com/underwearfitting/how-to-properly-split-folds"
   ]
  },
  {
   "cell_type": "code",
   "execution_count": 1,
   "metadata": {},
   "outputs": [],
   "source": [
    "import pandas as pd"
   ]
  },
  {
   "cell_type": "code",
   "execution_count": 2,
   "metadata": {},
   "outputs": [
    {
     "data": {
      "text/html": [
       "<div>\n",
       "<style scoped>\n",
       "    .dataframe tbody tr th:only-of-type {\n",
       "        vertical-align: middle;\n",
       "    }\n",
       "\n",
       "    .dataframe tbody tr th {\n",
       "        vertical-align: top;\n",
       "    }\n",
       "\n",
       "    .dataframe thead th {\n",
       "        text-align: right;\n",
       "    }\n",
       "</style>\n",
       "<table border=\"1\" class=\"dataframe\">\n",
       "  <thead>\n",
       "    <tr style=\"text-align: right;\">\n",
       "      <th></th>\n",
       "      <th>StudyInstanceUID</th>\n",
       "      <th>ETT - Abnormal</th>\n",
       "      <th>ETT - Borderline</th>\n",
       "      <th>ETT - Normal</th>\n",
       "      <th>NGT - Abnormal</th>\n",
       "      <th>NGT - Borderline</th>\n",
       "      <th>NGT - Incompletely Imaged</th>\n",
       "      <th>NGT - Normal</th>\n",
       "      <th>CVC - Abnormal</th>\n",
       "      <th>CVC - Borderline</th>\n",
       "      <th>CVC - Normal</th>\n",
       "      <th>Swan Ganz Catheter Present</th>\n",
       "      <th>PatientID</th>\n",
       "      <th>fold</th>\n",
       "      <th>img_path</th>\n",
       "      <th>cv</th>\n",
       "    </tr>\n",
       "  </thead>\n",
       "  <tbody>\n",
       "    <tr>\n",
       "      <th>0</th>\n",
       "      <td>1.2.826.0.1.3680043.8.498.26697628953273228189...</td>\n",
       "      <td>0</td>\n",
       "      <td>0</td>\n",
       "      <td>0</td>\n",
       "      <td>0</td>\n",
       "      <td>0</td>\n",
       "      <td>0</td>\n",
       "      <td>1</td>\n",
       "      <td>0</td>\n",
       "      <td>0</td>\n",
       "      <td>0</td>\n",
       "      <td>0</td>\n",
       "      <td>ec89415d1</td>\n",
       "      <td>3</td>\n",
       "      <td>/data/train512/1.2.826.0.1.3680043.8.498.26697...</td>\n",
       "      <td>3</td>\n",
       "    </tr>\n",
       "    <tr>\n",
       "      <th>1</th>\n",
       "      <td>1.2.826.0.1.3680043.8.498.46302891597398758759...</td>\n",
       "      <td>0</td>\n",
       "      <td>0</td>\n",
       "      <td>1</td>\n",
       "      <td>0</td>\n",
       "      <td>0</td>\n",
       "      <td>1</td>\n",
       "      <td>0</td>\n",
       "      <td>0</td>\n",
       "      <td>0</td>\n",
       "      <td>1</td>\n",
       "      <td>0</td>\n",
       "      <td>bf4c6da3c</td>\n",
       "      <td>3</td>\n",
       "      <td>/data/train512/1.2.826.0.1.3680043.8.498.46302...</td>\n",
       "      <td>3</td>\n",
       "    </tr>\n",
       "    <tr>\n",
       "      <th>2</th>\n",
       "      <td>1.2.826.0.1.3680043.8.498.23819260719748494858...</td>\n",
       "      <td>0</td>\n",
       "      <td>0</td>\n",
       "      <td>0</td>\n",
       "      <td>0</td>\n",
       "      <td>0</td>\n",
       "      <td>0</td>\n",
       "      <td>0</td>\n",
       "      <td>0</td>\n",
       "      <td>1</td>\n",
       "      <td>0</td>\n",
       "      <td>0</td>\n",
       "      <td>3fc1c97e5</td>\n",
       "      <td>3</td>\n",
       "      <td>/data/train512/1.2.826.0.1.3680043.8.498.23819...</td>\n",
       "      <td>3</td>\n",
       "    </tr>\n",
       "    <tr>\n",
       "      <th>3</th>\n",
       "      <td>1.2.826.0.1.3680043.8.498.68286643202323212801...</td>\n",
       "      <td>0</td>\n",
       "      <td>0</td>\n",
       "      <td>0</td>\n",
       "      <td>0</td>\n",
       "      <td>0</td>\n",
       "      <td>0</td>\n",
       "      <td>0</td>\n",
       "      <td>1</td>\n",
       "      <td>0</td>\n",
       "      <td>0</td>\n",
       "      <td>0</td>\n",
       "      <td>c31019814</td>\n",
       "      <td>0</td>\n",
       "      <td>/data/train512/1.2.826.0.1.3680043.8.498.68286...</td>\n",
       "      <td>0</td>\n",
       "    </tr>\n",
       "    <tr>\n",
       "      <th>4</th>\n",
       "      <td>1.2.826.0.1.3680043.8.498.10050203009225938259...</td>\n",
       "      <td>0</td>\n",
       "      <td>0</td>\n",
       "      <td>0</td>\n",
       "      <td>0</td>\n",
       "      <td>0</td>\n",
       "      <td>0</td>\n",
       "      <td>0</td>\n",
       "      <td>0</td>\n",
       "      <td>0</td>\n",
       "      <td>1</td>\n",
       "      <td>0</td>\n",
       "      <td>207685cd1</td>\n",
       "      <td>0</td>\n",
       "      <td>/data/train512/1.2.826.0.1.3680043.8.498.10050...</td>\n",
       "      <td>0</td>\n",
       "    </tr>\n",
       "  </tbody>\n",
       "</table>\n",
       "</div>"
      ],
      "text/plain": [
       "                                    StudyInstanceUID  ETT - Abnormal  \\\n",
       "0  1.2.826.0.1.3680043.8.498.26697628953273228189...               0   \n",
       "1  1.2.826.0.1.3680043.8.498.46302891597398758759...               0   \n",
       "2  1.2.826.0.1.3680043.8.498.23819260719748494858...               0   \n",
       "3  1.2.826.0.1.3680043.8.498.68286643202323212801...               0   \n",
       "4  1.2.826.0.1.3680043.8.498.10050203009225938259...               0   \n",
       "\n",
       "   ETT - Borderline  ETT - Normal  NGT - Abnormal  NGT - Borderline  \\\n",
       "0                 0             0               0                 0   \n",
       "1                 0             1               0                 0   \n",
       "2                 0             0               0                 0   \n",
       "3                 0             0               0                 0   \n",
       "4                 0             0               0                 0   \n",
       "\n",
       "   NGT - Incompletely Imaged  NGT - Normal  CVC - Abnormal  CVC - Borderline  \\\n",
       "0                          0             1               0                 0   \n",
       "1                          1             0               0                 0   \n",
       "2                          0             0               0                 1   \n",
       "3                          0             0               1                 0   \n",
       "4                          0             0               0                 0   \n",
       "\n",
       "   CVC - Normal  Swan Ganz Catheter Present  PatientID  fold  \\\n",
       "0             0                           0  ec89415d1     3   \n",
       "1             1                           0  bf4c6da3c     3   \n",
       "2             0                           0  3fc1c97e5     3   \n",
       "3             0                           0  c31019814     0   \n",
       "4             1                           0  207685cd1     0   \n",
       "\n",
       "                                            img_path  cv  \n",
       "0  /data/train512/1.2.826.0.1.3680043.8.498.26697...   3  \n",
       "1  /data/train512/1.2.826.0.1.3680043.8.498.46302...   3  \n",
       "2  /data/train512/1.2.826.0.1.3680043.8.498.23819...   3  \n",
       "3  /data/train512/1.2.826.0.1.3680043.8.498.68286...   0  \n",
       "4  /data/train512/1.2.826.0.1.3680043.8.498.10050...   0  "
      ]
     },
     "execution_count": 2,
     "metadata": {},
     "output_type": "execute_result"
    }
   ],
   "source": [
    "df = pd.read_csv('/data/df_train2.csv')\n",
    "df.head()"
   ]
  },
  {
   "cell_type": "markdown",
   "metadata": {},
   "source": [
    "# Wrong annotation\n",
    "https://www.kaggle.com/c/ranzcr-clip-catheter-line-classification/discussion/210064"
   ]
  },
  {
   "cell_type": "code",
   "execution_count": 3,
   "metadata": {},
   "outputs": [],
   "source": [
    "bad_image_id = ['1.2.826.0.1.3680043.8.498.93053605340693492468203536922883055634',\n",
    "'1.2.826.0.1.3680043.8.498.89369371707034087254309411362762932453',\n",
    "'1.2.826.0.1.3680043.8.498.40874263518848015471042617691509326469',\n",
    "'1.2.826.0.1.3680043.8.498.60784708544708592859086705347710043758',\n",
    "'1.2.826.0.1.3680043.8.498.85400081110981214468425786540292202327',\n",
    "'1.2.826.0.1.3680043.8.498.46805490620878014733000033680286522306',\n",
    "'1.2.826.0.1.3680043.8.498.12426606037326639593164801231383702795',\n",
    "'1.2.826.0.1.3680043.8.498.44981676356222715641792310487558318854',\n",
    "'1.2.826.0.1.3680043.8.498.92223955132523718945948760352349399544',\n",
    "'1.2.826.0.1.3680043.8.498.45667033584171921001890022815707001978',\n",
    "'1.2.826.0.1.3680043.8.498.62409687695240227890004324406035594441',\n",
    "'1.2.826.0.1.3680043.8.498.45667033584171921001890022815707001978',\n",
    "'1.2.826.0.1.3680043.8.498.93053605340693492468203536922883055634',\n",
    "'1.2.826.0.1.3680043.8.498.46805490620878014733000033680286522306',\n",
    "'1.2.826.0.1.3680043.8.498.60784708544708592859086705347710043758',\n",
    "]"
   ]
  },
  {
   "cell_type": "code",
   "execution_count": 7,
   "metadata": {},
   "outputs": [],
   "source": [
    "replace_label_dict = {\"1.2.826.0.1.3680043.8.498.57005638787237813934531972491254580369\": 'NGT - Borderline',\n",
    "\"1.2.826.0.1.3680043.8.498.93345761486297843389996628528592497280\": 'CVC - Abnormal',\n",
    "\"1.2.826.0.1.3680043.8.498.50891603479257167332052859560303996365\": 'CVC - Normal',\n",
    "\"1.2.826.0.1.3680043.8.498.32665013930528750130301395098139968929\": 'CVC - Borderline',\n",
    "\"1.2.826.0.1.3680043.8.498.47822809495672253227315400926882161159\": 'CVC - Borderline',\n",
    "\"1.2.826.0.1.3680043.8.498.55171965195784371324650309161724846475\": 'CVC - Borderline',\n",
    "\"1.2.826.0.1.3680043.8.498.29639870594803047496855371142714987539\": 'CVC - Normal',\n",
    "\"1.2.826.0.1.3680043.8.498.52422864792637441690285442425747003963\": 'ETT - Normal',\n",
    "\"1.2.826.0.1.3680043.8.498.51277351337858188519077141427236143108\": 'CVC - Normal',\n",
    "\"1.2.826.0.1.3680043.8.498.33011244702337270174558484639492100815\": 'NGT - Normal',\n",
    "\"1.2.826.0.1.3680043.8.498.10505287747515183956922280117689383476\": 'CVC - Normal',\n",
    "\"1.2.826.0.1.3680043.8.498.43340424479611237895060478106689360500\": 'CVC - Normal',\n",
    "\"1.2.826.0.1.3680043.8.498.12545979153892772426852721449004507757\": 'CVC - Abnormal',\n",
    "\"1.2.826.0.1.3680043.8.498.83700037297895094021306651705503600111\": 'ETT - Normal',\n",
    "\"1.2.826.0.1.3680043.8.498.35772244095675958072394978496245125294\": 'ETT - Normal',\n",
    "\"1.2.826.0.1.3680043.8.498.96130195933728659348647733812659169362\": 'NGT - Abnormal',\n",
    "\"1.2.826.0.1.3680043.8.498.75269816256944932004789976844599885553\": 'CVC - Abnormal',\n",
    "\"1.2.826.0.1.3680043.8.498.11935284122896798228836385959451625327\": 'CVC - Abnormal',\n",
    "\"1.2.826.0.1.3680043.8.498.83574817573978660270935463700320068005\": 'CVC - Abnormal',}\n",
    "\n",
    "worng_label_dict ={\n",
    "'1.2.826.0.1.3680043.8.498.57005638787237813934531972491254580369': 'CVC - Borderline',\n",
    "'1.2.826.0.1.3680043.8.498.93345761486297843389996628528592497280': 'ETT - Abnormal',\n",
    "'1.2.826.0.1.3680043.8.498.50891603479257167332052859560303996365': 'NGT - Normal',\n",
    "'1.2.826.0.1.3680043.8.498.32665013930528750130301395098139968929': 'NGT - Borderline',\n",
    "'1.2.826.0.1.3680043.8.498.47822809495672253227315400926882161159': 'NGT - Borderline',\n",
    "'1.2.826.0.1.3680043.8.498.55171965195784371324650309161724846475': 'NGT - Borderline',\n",
    "'1.2.826.0.1.3680043.8.498.29639870594803047496855371142714987539': 'ETT - Normal',\n",
    "'1.2.826.0.1.3680043.8.498.52422864792637441690285442425747003963': 'NGT - Normal',\n",
    "'1.2.826.0.1.3680043.8.498.51277351337858188519077141427236143108': 'NGT - Normal',\n",
    "'1.2.826.0.1.3680043.8.498.33011244702337270174558484639492100815': 'CVC - Normal',\n",
    "'1.2.826.0.1.3680043.8.498.10505287747515183956922280117689383476': 'NGT - Normal',\n",
    "'1.2.826.0.1.3680043.8.498.43340424479611237895060478106689360500': 'NGT - Normal',\n",
    "'1.2.826.0.1.3680043.8.498.12545979153892772426852721449004507757': 'NGT - Abnormal',\n",
    "'1.2.826.0.1.3680043.8.498.83700037297895094021306651705503600111': 'NGT - Normal',\n",
    "'1.2.826.0.1.3680043.8.498.35772244095675958072394978496245125294': 'NGT - Normal',\n",
    "'1.2.826.0.1.3680043.8.498.96130195933728659348647733812659169362': 'CVC - Abnormal',\n",
    "'1.2.826.0.1.3680043.8.498.75269816256944932004789976844599885553': 'NGT - Abnormal',\n",
    "'1.2.826.0.1.3680043.8.498.11935284122896798228836385959451625327': 'NGT - Abnormal',\n",
    "'1.2.826.0.1.3680043.8.498.83574817573978660270935463700320068005': 'NGT - Abnormal',}"
   ]
  },
  {
   "cell_type": "code",
   "execution_count": 10,
   "metadata": {},
   "outputs": [
    {
     "data": {
      "text/plain": [
       "19"
      ]
     },
     "execution_count": 10,
     "metadata": {},
     "output_type": "execute_result"
    }
   ],
   "source": [
    "len(set(replace_label_dict.keys()) & set(worng_label_dict.keys()))"
   ]
  },
  {
   "cell_type": "code",
   "execution_count": 11,
   "metadata": {},
   "outputs": [
    {
     "data": {
      "text/plain": [
       "19"
      ]
     },
     "execution_count": 11,
     "metadata": {},
     "output_type": "execute_result"
    }
   ],
   "source": [
    "len(replace_label_dict)"
   ]
  },
  {
   "cell_type": "code",
   "execution_count": 12,
   "metadata": {},
   "outputs": [
    {
     "data": {
      "text/plain": [
       "0        False\n",
       "1        False\n",
       "2        False\n",
       "3        False\n",
       "4        False\n",
       "         ...  \n",
       "30078    False\n",
       "30079    False\n",
       "30080    False\n",
       "30081    False\n",
       "30082    False\n",
       "Name: StudyInstanceUID, Length: 30083, dtype: bool"
      ]
     },
     "execution_count": 12,
     "metadata": {},
     "output_type": "execute_result"
    }
   ],
   "source": [
    "df.StudyInstanceUID == '1.2.826.0.1.3680043.8.498.83574817573978660270935463700320068005'"
   ]
  },
  {
   "cell_type": "code",
   "execution_count": 13,
   "metadata": {},
   "outputs": [
    {
     "name": "stdout",
     "output_type": "stream",
     "text": [
      "1.2.826.0.1.3680043.8.498.83574817573978660270935463700320068005\n",
      "1.2.826.0.1.3680043.8.498.50891603479257167332052859560303996365\n",
      "1.2.826.0.1.3680043.8.498.12545979153892772426852721449004507757\n",
      "1.2.826.0.1.3680043.8.498.93345761486297843389996628528592497280\n",
      "1.2.826.0.1.3680043.8.498.32665013930528750130301395098139968929\n",
      "1.2.826.0.1.3680043.8.498.29639870594803047496855371142714987539\n",
      "1.2.826.0.1.3680043.8.498.33011244702337270174558484639492100815\n",
      "1.2.826.0.1.3680043.8.498.96130195933728659348647733812659169362\n",
      "1.2.826.0.1.3680043.8.498.75269816256944932004789976844599885553\n",
      "1.2.826.0.1.3680043.8.498.52422864792637441690285442425747003963\n",
      "1.2.826.0.1.3680043.8.498.55171965195784371324650309161724846475\n",
      "1.2.826.0.1.3680043.8.498.43340424479611237895060478106689360500\n",
      "1.2.826.0.1.3680043.8.498.51277351337858188519077141427236143108\n",
      "1.2.826.0.1.3680043.8.498.47822809495672253227315400926882161159\n",
      "1.2.826.0.1.3680043.8.498.83700037297895094021306651705503600111\n",
      "1.2.826.0.1.3680043.8.498.10505287747515183956922280117689383476\n",
      "1.2.826.0.1.3680043.8.498.35772244095675958072394978496245125294\n",
      "1.2.826.0.1.3680043.8.498.11935284122896798228836385959451625327\n",
      "1.2.826.0.1.3680043.8.498.57005638787237813934531972491254580369\n"
     ]
    }
   ],
   "source": [
    "for i in range(len(df)):\n",
    "    row = df.iloc[i]\n",
    "    if row.StudyInstanceUID in list(replace_label_dict.keys()):\n",
    "        df.loc[(df.StudyInstanceUID == row.StudyInstanceUID), [worng_label_dict[row.StudyInstanceUID]]] = 0\n",
    "        df.loc[(df.StudyInstanceUID == row.StudyInstanceUID), [replace_label_dict[row.StudyInstanceUID]]] = 1\n",
    "        print(row.StudyInstanceUID)"
   ]
  },
  {
   "cell_type": "code",
   "execution_count": 16,
   "metadata": {},
   "outputs": [
    {
     "data": {
      "text/html": [
       "<div>\n",
       "<style scoped>\n",
       "    .dataframe tbody tr th:only-of-type {\n",
       "        vertical-align: middle;\n",
       "    }\n",
       "\n",
       "    .dataframe tbody tr th {\n",
       "        vertical-align: top;\n",
       "    }\n",
       "\n",
       "    .dataframe thead th {\n",
       "        text-align: right;\n",
       "    }\n",
       "</style>\n",
       "<table border=\"1\" class=\"dataframe\">\n",
       "  <thead>\n",
       "    <tr style=\"text-align: right;\">\n",
       "      <th></th>\n",
       "      <th>StudyInstanceUID</th>\n",
       "      <th>ETT - Abnormal</th>\n",
       "      <th>ETT - Borderline</th>\n",
       "      <th>ETT - Normal</th>\n",
       "      <th>NGT - Abnormal</th>\n",
       "      <th>NGT - Borderline</th>\n",
       "      <th>NGT - Incompletely Imaged</th>\n",
       "      <th>NGT - Normal</th>\n",
       "      <th>CVC - Abnormal</th>\n",
       "      <th>CVC - Borderline</th>\n",
       "      <th>CVC - Normal</th>\n",
       "      <th>Swan Ganz Catheter Present</th>\n",
       "      <th>PatientID</th>\n",
       "      <th>fold</th>\n",
       "      <th>img_path</th>\n",
       "      <th>cv</th>\n",
       "    </tr>\n",
       "  </thead>\n",
       "  <tbody>\n",
       "    <tr>\n",
       "      <th>28870</th>\n",
       "      <td>1.2.826.0.1.3680043.8.498.57005638787237813934...</td>\n",
       "      <td>0</td>\n",
       "      <td>0</td>\n",
       "      <td>0</td>\n",
       "      <td>0</td>\n",
       "      <td>1</td>\n",
       "      <td>0</td>\n",
       "      <td>0</td>\n",
       "      <td>0</td>\n",
       "      <td>0</td>\n",
       "      <td>1</td>\n",
       "      <td>0</td>\n",
       "      <td>131653979</td>\n",
       "      <td>0</td>\n",
       "      <td>/data/train512/1.2.826.0.1.3680043.8.498.57005...</td>\n",
       "      <td>0</td>\n",
       "    </tr>\n",
       "  </tbody>\n",
       "</table>\n",
       "</div>"
      ],
      "text/plain": [
       "                                        StudyInstanceUID  ETT - Abnormal  \\\n",
       "28870  1.2.826.0.1.3680043.8.498.57005638787237813934...               0   \n",
       "\n",
       "       ETT - Borderline  ETT - Normal  NGT - Abnormal  NGT - Borderline  \\\n",
       "28870                 0             0               0                 1   \n",
       "\n",
       "       NGT - Incompletely Imaged  NGT - Normal  CVC - Abnormal  \\\n",
       "28870                          0             0               0   \n",
       "\n",
       "       CVC - Borderline  CVC - Normal  Swan Ganz Catheter Present  PatientID  \\\n",
       "28870                 0             1                           0  131653979   \n",
       "\n",
       "       fold                                           img_path  cv  \n",
       "28870     0  /data/train512/1.2.826.0.1.3680043.8.498.57005...   0  "
      ]
     },
     "execution_count": 16,
     "metadata": {},
     "output_type": "execute_result"
    }
   ],
   "source": [
    "df.loc[(df.StudyInstanceUID == '1.2.826.0.1.3680043.8.498.57005638787237813934531972491254580369')]"
   ]
  },
  {
   "cell_type": "code",
   "execution_count": 20,
   "metadata": {},
   "outputs": [],
   "source": [
    "df = df[~df.StudyInstanceUID.isin(bad_image_id)].reset_index(drop=True)"
   ]
  },
  {
   "cell_type": "code",
   "execution_count": null,
   "metadata": {},
   "outputs": [],
   "source": []
  },
  {
   "cell_type": "code",
   "execution_count": 21,
   "metadata": {},
   "outputs": [],
   "source": [
    "df.to_csv('/data/df_train3.csv', index=False)"
   ]
  },
  {
   "cell_type": "code",
   "execution_count": null,
   "metadata": {},
   "outputs": [],
   "source": []
  }
 ],
 "metadata": {
  "kernelspec": {
   "display_name": "Python 3",
   "language": "python",
   "name": "python3"
  },
  "language_info": {
   "codemirror_mode": {
    "name": "ipython",
    "version": 3
   },
   "file_extension": ".py",
   "mimetype": "text/x-python",
   "name": "python",
   "nbconvert_exporter": "python",
   "pygments_lexer": "ipython3",
   "version": "3.8.3"
  }
 },
 "nbformat": 4,
 "nbformat_minor": 4
}
